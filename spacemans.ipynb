{
  "nbformat": 4,
  "nbformat_minor": 0,
  "metadata": {
    "colab": {
      "name": "spacemans.ipynb",
      "provenance": [],
      "collapsed_sections": []
    },
    "kernelspec": {
      "name": "python3",
      "display_name": "Python 3"
    },
    "language_info": {
      "name": "python"
    },
    "accelerator": "GPU",
    "widgets": {
      "application/vnd.jupyter.widget-state+json": {
        "6f210b096ba547fcbe218bd54495a797": {
          "model_module": "@jupyter-widgets/controls",
          "model_name": "VBoxModel",
          "model_module_version": "1.5.0",
          "state": {
            "_view_name": "VBoxView",
            "_dom_classes": [],
            "_model_name": "VBoxModel",
            "_view_module": "@jupyter-widgets/controls",
            "_model_module_version": "1.5.0",
            "_view_count": null,
            "_view_module_version": "1.5.0",
            "box_style": "",
            "layout": "IPY_MODEL_ed39a447abdf4642809bb4faa5aaf3c7",
            "_model_module": "@jupyter-widgets/controls",
            "children": [
              "IPY_MODEL_a72a3153ed674c53ace8727415eb49e4",
              "IPY_MODEL_a2240a859594449bba9605ce6a446990",
              "IPY_MODEL_622ec0c85bdd451ba592a585339b4072",
              "IPY_MODEL_cfe5e289892a4a5e9ae887c02e9c19bd",
              "IPY_MODEL_dbf75d82ca874caba5f933567b5839d9"
            ]
          }
        },
        "ed39a447abdf4642809bb4faa5aaf3c7": {
          "model_module": "@jupyter-widgets/base",
          "model_name": "LayoutModel",
          "model_module_version": "1.2.0",
          "state": {
            "_view_name": "LayoutView",
            "grid_template_rows": null,
            "right": null,
            "justify_content": null,
            "_view_module": "@jupyter-widgets/base",
            "overflow": null,
            "_model_module_version": "1.2.0",
            "_view_count": null,
            "flex_flow": null,
            "width": null,
            "min_width": null,
            "border": null,
            "align_items": null,
            "bottom": null,
            "_model_module": "@jupyter-widgets/base",
            "top": null,
            "grid_column": null,
            "overflow_y": null,
            "overflow_x": null,
            "grid_auto_flow": null,
            "grid_area": null,
            "grid_template_columns": null,
            "flex": null,
            "_model_name": "LayoutModel",
            "justify_items": null,
            "grid_row": null,
            "max_height": null,
            "align_content": null,
            "visibility": null,
            "align_self": null,
            "height": null,
            "min_height": null,
            "padding": null,
            "grid_auto_rows": null,
            "grid_gap": null,
            "max_width": null,
            "order": null,
            "_view_module_version": "1.2.0",
            "grid_template_areas": null,
            "object_position": null,
            "object_fit": null,
            "grid_auto_columns": null,
            "margin": null,
            "display": null,
            "left": null
          }
        },
        "a72a3153ed674c53ace8727415eb49e4": {
          "model_module": "@jupyter-widgets/controls",
          "model_name": "LabelModel",
          "model_module_version": "1.5.0",
          "state": {
            "_view_name": "LabelView",
            "style": "IPY_MODEL_1200bae8bd4f42eba31e1d72a30e5903",
            "_dom_classes": [],
            "description": "",
            "_model_name": "LabelModel",
            "placeholder": "​",
            "_view_module": "@jupyter-widgets/controls",
            "_model_module_version": "1.5.0",
            "value": "Upload a picture of stormstrooper,spacemarine or astronaut!",
            "_view_count": null,
            "_view_module_version": "1.5.0",
            "description_tooltip": null,
            "_model_module": "@jupyter-widgets/controls",
            "layout": "IPY_MODEL_523f67c73ffd4d9c9e3fd88caece7812"
          }
        },
        "a2240a859594449bba9605ce6a446990": {
          "model_module": "@jupyter-widgets/controls",
          "model_name": "FileUploadModel",
          "model_module_version": "1.5.0",
          "state": {
            "_view_name": "FileUploadView",
            "_counter": 1,
            "style": "IPY_MODEL_ad7a0e849f2a4f8c85bfb34c7aa280fe",
            "_dom_classes": [],
            "description": "Upload",
            "multiple": false,
            "_model_name": "FileUploadModel",
            "data": [
              null
            ],
            "button_style": "",
            "_view_module": "@jupyter-widgets/controls",
            "_model_module_version": "1.5.0",
            "accept": "",
            "_view_count": null,
            "disabled": false,
            "_view_module_version": "1.5.0",
            "error": "",
            "description_tooltip": null,
            "metadata": [
              {
                "name": "гагарин.jpg",
                "type": "image/jpeg",
                "size": 804046,
                "lastModified": 1638995419189
              }
            ],
            "_model_module": "@jupyter-widgets/controls",
            "layout": "IPY_MODEL_c9cbb01a94914a00ac838e3c1fc795c3",
            "icon": "upload"
          }
        },
        "622ec0c85bdd451ba592a585339b4072": {
          "model_module": "@jupyter-widgets/controls",
          "model_name": "ButtonModel",
          "model_module_version": "1.5.0",
          "state": {
            "_view_name": "ButtonView",
            "style": "IPY_MODEL_bc0cd3506e1b4b2691f608917530781d",
            "_dom_classes": [],
            "description": "Classify",
            "_model_name": "ButtonModel",
            "button_style": "",
            "_view_module": "@jupyter-widgets/controls",
            "_model_module_version": "1.5.0",
            "tooltip": "",
            "_view_count": null,
            "disabled": false,
            "_view_module_version": "1.5.0",
            "layout": "IPY_MODEL_057dd97f5e164615bf1b23986f524620",
            "_model_module": "@jupyter-widgets/controls",
            "icon": ""
          }
        },
        "cfe5e289892a4a5e9ae887c02e9c19bd": {
          "model_module": "@jupyter-widgets/output",
          "model_name": "OutputModel",
          "model_module_version": "1.0.0",
          "state": {
            "_view_name": "OutputView",
            "msg_id": "",
            "_dom_classes": [],
            "_model_name": "OutputModel",
            "outputs": [
              {
                "output_type": "display_data",
                "data": {
                  "image/png": "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\n",
                  "text/plain": "<PIL.Image.Image image mode=RGB size=128x80 at 0x7F60E9DADE10>"
                },
                "metadata": {}
              }
            ],
            "_view_module": "@jupyter-widgets/output",
            "_model_module_version": "1.0.0",
            "_view_count": null,
            "_view_module_version": "1.0.0",
            "layout": "IPY_MODEL_bbf1b567988a4d1b8617dc645bde7a17",
            "_model_module": "@jupyter-widgets/output"
          }
        },
        "dbf75d82ca874caba5f933567b5839d9": {
          "model_module": "@jupyter-widgets/controls",
          "model_name": "LabelModel",
          "model_module_version": "1.5.0",
          "state": {
            "_view_name": "LabelView",
            "style": "IPY_MODEL_7cec1c53cd7a4c1696bef5d3643bc59c",
            "_dom_classes": [],
            "description": "",
            "_model_name": "LabelModel",
            "placeholder": "​",
            "_view_module": "@jupyter-widgets/controls",
            "_model_module_version": "1.5.0",
            "value": "Prediction: astronaut; Probability: 1.0000",
            "_view_count": null,
            "_view_module_version": "1.5.0",
            "description_tooltip": null,
            "_model_module": "@jupyter-widgets/controls",
            "layout": "IPY_MODEL_6a48f05062be4fb692f1f619a3578282"
          }
        },
        "1200bae8bd4f42eba31e1d72a30e5903": {
          "model_module": "@jupyter-widgets/controls",
          "model_name": "DescriptionStyleModel",
          "model_module_version": "1.5.0",
          "state": {
            "_view_name": "StyleView",
            "_model_name": "DescriptionStyleModel",
            "description_width": "",
            "_view_module": "@jupyter-widgets/base",
            "_model_module_version": "1.5.0",
            "_view_count": null,
            "_view_module_version": "1.2.0",
            "_model_module": "@jupyter-widgets/controls"
          }
        },
        "523f67c73ffd4d9c9e3fd88caece7812": {
          "model_module": "@jupyter-widgets/base",
          "model_name": "LayoutModel",
          "model_module_version": "1.2.0",
          "state": {
            "_view_name": "LayoutView",
            "grid_template_rows": null,
            "right": null,
            "justify_content": null,
            "_view_module": "@jupyter-widgets/base",
            "overflow": null,
            "_model_module_version": "1.2.0",
            "_view_count": null,
            "flex_flow": null,
            "width": null,
            "min_width": null,
            "border": null,
            "align_items": null,
            "bottom": null,
            "_model_module": "@jupyter-widgets/base",
            "top": null,
            "grid_column": null,
            "overflow_y": null,
            "overflow_x": null,
            "grid_auto_flow": null,
            "grid_area": null,
            "grid_template_columns": null,
            "flex": null,
            "_model_name": "LayoutModel",
            "justify_items": null,
            "grid_row": null,
            "max_height": null,
            "align_content": null,
            "visibility": null,
            "align_self": null,
            "height": null,
            "min_height": null,
            "padding": null,
            "grid_auto_rows": null,
            "grid_gap": null,
            "max_width": null,
            "order": null,
            "_view_module_version": "1.2.0",
            "grid_template_areas": null,
            "object_position": null,
            "object_fit": null,
            "grid_auto_columns": null,
            "margin": null,
            "display": null,
            "left": null
          }
        },
        "ad7a0e849f2a4f8c85bfb34c7aa280fe": {
          "model_module": "@jupyter-widgets/controls",
          "model_name": "ButtonStyleModel",
          "model_module_version": "1.5.0",
          "state": {
            "_view_name": "StyleView",
            "_model_name": "ButtonStyleModel",
            "_view_module": "@jupyter-widgets/base",
            "_model_module_version": "1.5.0",
            "_view_count": null,
            "button_color": null,
            "font_weight": "",
            "_view_module_version": "1.2.0",
            "_model_module": "@jupyter-widgets/controls"
          }
        },
        "c9cbb01a94914a00ac838e3c1fc795c3": {
          "model_module": "@jupyter-widgets/base",
          "model_name": "LayoutModel",
          "model_module_version": "1.2.0",
          "state": {
            "_view_name": "LayoutView",
            "grid_template_rows": null,
            "right": null,
            "justify_content": null,
            "_view_module": "@jupyter-widgets/base",
            "overflow": null,
            "_model_module_version": "1.2.0",
            "_view_count": null,
            "flex_flow": null,
            "width": null,
            "min_width": null,
            "border": null,
            "align_items": null,
            "bottom": null,
            "_model_module": "@jupyter-widgets/base",
            "top": null,
            "grid_column": null,
            "overflow_y": null,
            "overflow_x": null,
            "grid_auto_flow": null,
            "grid_area": null,
            "grid_template_columns": null,
            "flex": null,
            "_model_name": "LayoutModel",
            "justify_items": null,
            "grid_row": null,
            "max_height": null,
            "align_content": null,
            "visibility": null,
            "align_self": null,
            "height": null,
            "min_height": null,
            "padding": null,
            "grid_auto_rows": null,
            "grid_gap": null,
            "max_width": null,
            "order": null,
            "_view_module_version": "1.2.0",
            "grid_template_areas": null,
            "object_position": null,
            "object_fit": null,
            "grid_auto_columns": null,
            "margin": null,
            "display": null,
            "left": null
          }
        },
        "bc0cd3506e1b4b2691f608917530781d": {
          "model_module": "@jupyter-widgets/controls",
          "model_name": "ButtonStyleModel",
          "model_module_version": "1.5.0",
          "state": {
            "_view_name": "StyleView",
            "_model_name": "ButtonStyleModel",
            "_view_module": "@jupyter-widgets/base",
            "_model_module_version": "1.5.0",
            "_view_count": null,
            "button_color": null,
            "font_weight": "",
            "_view_module_version": "1.2.0",
            "_model_module": "@jupyter-widgets/controls"
          }
        },
        "057dd97f5e164615bf1b23986f524620": {
          "model_module": "@jupyter-widgets/base",
          "model_name": "LayoutModel",
          "model_module_version": "1.2.0",
          "state": {
            "_view_name": "LayoutView",
            "grid_template_rows": null,
            "right": null,
            "justify_content": null,
            "_view_module": "@jupyter-widgets/base",
            "overflow": null,
            "_model_module_version": "1.2.0",
            "_view_count": null,
            "flex_flow": null,
            "width": null,
            "min_width": null,
            "border": null,
            "align_items": null,
            "bottom": null,
            "_model_module": "@jupyter-widgets/base",
            "top": null,
            "grid_column": null,
            "overflow_y": null,
            "overflow_x": null,
            "grid_auto_flow": null,
            "grid_area": null,
            "grid_template_columns": null,
            "flex": null,
            "_model_name": "LayoutModel",
            "justify_items": null,
            "grid_row": null,
            "max_height": null,
            "align_content": null,
            "visibility": null,
            "align_self": null,
            "height": null,
            "min_height": null,
            "padding": null,
            "grid_auto_rows": null,
            "grid_gap": null,
            "max_width": null,
            "order": null,
            "_view_module_version": "1.2.0",
            "grid_template_areas": null,
            "object_position": null,
            "object_fit": null,
            "grid_auto_columns": null,
            "margin": null,
            "display": null,
            "left": null
          }
        },
        "7cec1c53cd7a4c1696bef5d3643bc59c": {
          "model_module": "@jupyter-widgets/controls",
          "model_name": "DescriptionStyleModel",
          "model_module_version": "1.5.0",
          "state": {
            "_view_name": "StyleView",
            "_model_name": "DescriptionStyleModel",
            "description_width": "",
            "_view_module": "@jupyter-widgets/base",
            "_model_module_version": "1.5.0",
            "_view_count": null,
            "_view_module_version": "1.2.0",
            "_model_module": "@jupyter-widgets/controls"
          }
        },
        "6a48f05062be4fb692f1f619a3578282": {
          "model_module": "@jupyter-widgets/base",
          "model_name": "LayoutModel",
          "model_module_version": "1.2.0",
          "state": {
            "_view_name": "LayoutView",
            "grid_template_rows": null,
            "right": null,
            "justify_content": null,
            "_view_module": "@jupyter-widgets/base",
            "overflow": null,
            "_model_module_version": "1.2.0",
            "_view_count": null,
            "flex_flow": null,
            "width": null,
            "min_width": null,
            "border": null,
            "align_items": null,
            "bottom": null,
            "_model_module": "@jupyter-widgets/base",
            "top": null,
            "grid_column": null,
            "overflow_y": null,
            "overflow_x": null,
            "grid_auto_flow": null,
            "grid_area": null,
            "grid_template_columns": null,
            "flex": null,
            "_model_name": "LayoutModel",
            "justify_items": null,
            "grid_row": null,
            "max_height": null,
            "align_content": null,
            "visibility": null,
            "align_self": null,
            "height": null,
            "min_height": null,
            "padding": null,
            "grid_auto_rows": null,
            "grid_gap": null,
            "max_width": null,
            "order": null,
            "_view_module_version": "1.2.0",
            "grid_template_areas": null,
            "object_position": null,
            "object_fit": null,
            "grid_auto_columns": null,
            "margin": null,
            "display": null,
            "left": null
          }
        },
        "bbf1b567988a4d1b8617dc645bde7a17": {
          "model_module": "@jupyter-widgets/base",
          "model_name": "LayoutModel",
          "model_module_version": "1.2.0",
          "state": {
            "_view_name": "LayoutView",
            "grid_template_rows": null,
            "right": null,
            "justify_content": null,
            "_view_module": "@jupyter-widgets/base",
            "overflow": null,
            "_model_module_version": "1.2.0",
            "_view_count": null,
            "flex_flow": null,
            "width": null,
            "min_width": null,
            "border": null,
            "align_items": null,
            "bottom": null,
            "_model_module": "@jupyter-widgets/base",
            "top": null,
            "grid_column": null,
            "overflow_y": null,
            "overflow_x": null,
            "grid_auto_flow": null,
            "grid_area": null,
            "grid_template_columns": null,
            "flex": null,
            "_model_name": "LayoutModel",
            "justify_items": null,
            "grid_row": null,
            "max_height": null,
            "align_content": null,
            "visibility": null,
            "align_self": null,
            "height": null,
            "min_height": null,
            "padding": null,
            "grid_auto_rows": null,
            "grid_gap": null,
            "max_width": null,
            "order": null,
            "_view_module_version": "1.2.0",
            "grid_template_areas": null,
            "object_position": null,
            "object_fit": null,
            "grid_auto_columns": null,
            "margin": null,
            "display": null,
            "left": null
          }
        }
      }
    }
  },
  "cells": [
    {
      "cell_type": "code",
      "source": [
        "!pip install fastai==2.5.3"
      ],
      "metadata": {
        "colab": {
          "base_uri": "https://localhost:8080/"
        },
        "id": "4m4kzbJptjDm",
        "outputId": "ed180601-37f5-422f-b5a8-0ba6e867b3f6"
      },
      "execution_count": 1,
      "outputs": [
        {
          "output_type": "stream",
          "name": "stdout",
          "text": [
            "Collecting fastai==2.5.3\n",
            "  Downloading fastai-2.5.3-py3-none-any.whl (189 kB)\n",
            "\u001b[K     |████████████████████████████████| 189 kB 4.2 MB/s \n",
            "\u001b[?25hRequirement already satisfied: fastprogress>=0.2.4 in /usr/local/lib/python3.7/dist-packages (from fastai==2.5.3) (1.0.0)\n",
            "Requirement already satisfied: scipy in /usr/local/lib/python3.7/dist-packages (from fastai==2.5.3) (1.4.1)\n",
            "Requirement already satisfied: scikit-learn in /usr/local/lib/python3.7/dist-packages (from fastai==2.5.3) (1.0.1)\n",
            "Collecting fastdownload<2,>=0.0.5\n",
            "  Downloading fastdownload-0.0.5-py3-none-any.whl (13 kB)\n",
            "Requirement already satisfied: torchvision>=0.8.2 in /usr/local/lib/python3.7/dist-packages (from fastai==2.5.3) (0.11.1+cu111)\n",
            "Requirement already satisfied: pyyaml in /usr/local/lib/python3.7/dist-packages (from fastai==2.5.3) (3.13)\n",
            "Requirement already satisfied: pandas in /usr/local/lib/python3.7/dist-packages (from fastai==2.5.3) (1.1.5)\n",
            "Collecting fastcore<1.4,>=1.3.22\n",
            "  Downloading fastcore-1.3.27-py3-none-any.whl (56 kB)\n",
            "\u001b[K     |████████████████████████████████| 56 kB 4.6 MB/s \n",
            "\u001b[?25hRequirement already satisfied: pip in /usr/local/lib/python3.7/dist-packages (from fastai==2.5.3) (21.1.3)\n",
            "Requirement already satisfied: matplotlib in /usr/local/lib/python3.7/dist-packages (from fastai==2.5.3) (3.2.2)\n",
            "Requirement already satisfied: packaging in /usr/local/lib/python3.7/dist-packages (from fastai==2.5.3) (21.3)\n",
            "Requirement already satisfied: spacy<4 in /usr/local/lib/python3.7/dist-packages (from fastai==2.5.3) (2.2.4)\n",
            "Requirement already satisfied: requests in /usr/local/lib/python3.7/dist-packages (from fastai==2.5.3) (2.23.0)\n",
            "Requirement already satisfied: torch<1.11,>=1.7.0 in /usr/local/lib/python3.7/dist-packages (from fastai==2.5.3) (1.10.0+cu111)\n",
            "Requirement already satisfied: pillow>6.0.0 in /usr/local/lib/python3.7/dist-packages (from fastai==2.5.3) (7.1.2)\n",
            "Requirement already satisfied: numpy in /usr/local/lib/python3.7/dist-packages (from fastprogress>=0.2.4->fastai==2.5.3) (1.19.5)\n",
            "Requirement already satisfied: blis<0.5.0,>=0.4.0 in /usr/local/lib/python3.7/dist-packages (from spacy<4->fastai==2.5.3) (0.4.1)\n",
            "Requirement already satisfied: srsly<1.1.0,>=1.0.2 in /usr/local/lib/python3.7/dist-packages (from spacy<4->fastai==2.5.3) (1.0.5)\n",
            "Requirement already satisfied: thinc==7.4.0 in /usr/local/lib/python3.7/dist-packages (from spacy<4->fastai==2.5.3) (7.4.0)\n",
            "Requirement already satisfied: catalogue<1.1.0,>=0.0.7 in /usr/local/lib/python3.7/dist-packages (from spacy<4->fastai==2.5.3) (1.0.0)\n",
            "Requirement already satisfied: tqdm<5.0.0,>=4.38.0 in /usr/local/lib/python3.7/dist-packages (from spacy<4->fastai==2.5.3) (4.62.3)\n",
            "Requirement already satisfied: wasabi<1.1.0,>=0.4.0 in /usr/local/lib/python3.7/dist-packages (from spacy<4->fastai==2.5.3) (0.8.2)\n",
            "Requirement already satisfied: plac<1.2.0,>=0.9.6 in /usr/local/lib/python3.7/dist-packages (from spacy<4->fastai==2.5.3) (1.1.3)\n",
            "Requirement already satisfied: cymem<2.1.0,>=2.0.2 in /usr/local/lib/python3.7/dist-packages (from spacy<4->fastai==2.5.3) (2.0.6)\n",
            "Requirement already satisfied: preshed<3.1.0,>=3.0.2 in /usr/local/lib/python3.7/dist-packages (from spacy<4->fastai==2.5.3) (3.0.6)\n",
            "Requirement already satisfied: murmurhash<1.1.0,>=0.28.0 in /usr/local/lib/python3.7/dist-packages (from spacy<4->fastai==2.5.3) (1.0.6)\n",
            "Requirement already satisfied: setuptools in /usr/local/lib/python3.7/dist-packages (from spacy<4->fastai==2.5.3) (57.4.0)\n",
            "Requirement already satisfied: importlib-metadata>=0.20 in /usr/local/lib/python3.7/dist-packages (from catalogue<1.1.0,>=0.0.7->spacy<4->fastai==2.5.3) (4.8.2)\n",
            "Requirement already satisfied: zipp>=0.5 in /usr/local/lib/python3.7/dist-packages (from importlib-metadata>=0.20->catalogue<1.1.0,>=0.0.7->spacy<4->fastai==2.5.3) (3.6.0)\n",
            "Requirement already satisfied: typing-extensions>=3.6.4 in /usr/local/lib/python3.7/dist-packages (from importlib-metadata>=0.20->catalogue<1.1.0,>=0.0.7->spacy<4->fastai==2.5.3) (3.10.0.2)\n",
            "Requirement already satisfied: idna<3,>=2.5 in /usr/local/lib/python3.7/dist-packages (from requests->fastai==2.5.3) (2.10)\n",
            "Requirement already satisfied: chardet<4,>=3.0.2 in /usr/local/lib/python3.7/dist-packages (from requests->fastai==2.5.3) (3.0.4)\n",
            "Requirement already satisfied: urllib3!=1.25.0,!=1.25.1,<1.26,>=1.21.1 in /usr/local/lib/python3.7/dist-packages (from requests->fastai==2.5.3) (1.24.3)\n",
            "Requirement already satisfied: certifi>=2017.4.17 in /usr/local/lib/python3.7/dist-packages (from requests->fastai==2.5.3) (2021.10.8)\n",
            "Requirement already satisfied: pyparsing!=2.0.4,!=2.1.2,!=2.1.6,>=2.0.1 in /usr/local/lib/python3.7/dist-packages (from matplotlib->fastai==2.5.3) (3.0.6)\n",
            "Requirement already satisfied: python-dateutil>=2.1 in /usr/local/lib/python3.7/dist-packages (from matplotlib->fastai==2.5.3) (2.8.2)\n",
            "Requirement already satisfied: kiwisolver>=1.0.1 in /usr/local/lib/python3.7/dist-packages (from matplotlib->fastai==2.5.3) (1.3.2)\n",
            "Requirement already satisfied: cycler>=0.10 in /usr/local/lib/python3.7/dist-packages (from matplotlib->fastai==2.5.3) (0.11.0)\n",
            "Requirement already satisfied: six>=1.5 in /usr/local/lib/python3.7/dist-packages (from python-dateutil>=2.1->matplotlib->fastai==2.5.3) (1.15.0)\n",
            "Requirement already satisfied: pytz>=2017.2 in /usr/local/lib/python3.7/dist-packages (from pandas->fastai==2.5.3) (2018.9)\n",
            "Requirement already satisfied: joblib>=0.11 in /usr/local/lib/python3.7/dist-packages (from scikit-learn->fastai==2.5.3) (1.1.0)\n",
            "Requirement already satisfied: threadpoolctl>=2.0.0 in /usr/local/lib/python3.7/dist-packages (from scikit-learn->fastai==2.5.3) (3.0.0)\n",
            "Installing collected packages: fastcore, fastdownload, fastai\n",
            "  Attempting uninstall: fastai\n",
            "    Found existing installation: fastai 1.0.61\n",
            "    Uninstalling fastai-1.0.61:\n",
            "      Successfully uninstalled fastai-1.0.61\n",
            "Successfully installed fastai-2.5.3 fastcore-1.3.27 fastdownload-0.0.5\n"
          ]
        }
      ]
    },
    {
      "cell_type": "code",
      "source": [
        "MODEL_PATH = 'export.pkl'"
      ],
      "metadata": {
        "colab": {
          "base_uri": "https://localhost:8080/"
        },
        "id": "_RdsE42VtlaX",
        "outputId": "96dc12fb-9f65-4acb-f362-9dcac1d43c32"
      },
      "execution_count": 2,
      "outputs": [
        {
          "output_type": "stream",
          "name": "stdout",
          "text": [
            "Mounted at /content/drive\n"
          ]
        }
      ]
    },
    {
      "cell_type": "code",
      "source": [
        "from fastai.vision.all import *\n",
        "from fastai.vision.widgets import *\n",
        "\n",
        "learn_inf = load_learner(MODEL_PATH)\n",
        "\n"
      ],
      "metadata": {
        "id": "JabdalbNsjsQ"
      },
      "execution_count": 3,
      "outputs": []
    },
    {
      "cell_type": "code",
      "source": [
        "btn_upload = widgets.FileUpload()\n",
        "out_pl = widgets.Output()\n",
        "out_pl.clear_output()\n",
        "lbl_pred = widgets.Label()\n",
        "btn_run = widgets.Button(description='Classify')"
      ],
      "metadata": {
        "id": "EBKRE083sjmD"
      },
      "execution_count": 4,
      "outputs": []
    },
    {
      "cell_type": "code",
      "source": [
        "def on_click_classify(change):\n",
        "    img = PILImage.create(btn_upload.data[-1])\n",
        "    out_pl.clear_output()\n",
        "    with out_pl: display(img.to_thumb(128,128))\n",
        "    pred,pred_idx,probs = learn_inf.predict(img)\n",
        "    lbl_pred.value = f'Prediction: {pred}; Probability: {probs[pred_idx]:.04f}'\n",
        "\n",
        "btn_run.on_click(on_click_classify)"
      ],
      "metadata": {
        "id": "90AG2EXsspWX"
      },
      "execution_count": 5,
      "outputs": []
    },
    {
      "cell_type": "code",
      "source": [
        "VBox([widgets.Label('Upload a picture of stormstrooper,spacemarine or astronaut!'), btn_upload, btn_run, out_pl, lbl_pred])"
      ],
      "metadata": {
        "id": "MO5PvnwVst0S",
        "colab": {
          "base_uri": "https://localhost:8080/",
          "height": 225,
          "referenced_widgets": [
            "6f210b096ba547fcbe218bd54495a797",
            "ed39a447abdf4642809bb4faa5aaf3c7",
            "a72a3153ed674c53ace8727415eb49e4",
            "a2240a859594449bba9605ce6a446990",
            "622ec0c85bdd451ba592a585339b4072",
            "cfe5e289892a4a5e9ae887c02e9c19bd",
            "dbf75d82ca874caba5f933567b5839d9",
            "1200bae8bd4f42eba31e1d72a30e5903",
            "523f67c73ffd4d9c9e3fd88caece7812",
            "ad7a0e849f2a4f8c85bfb34c7aa280fe",
            "c9cbb01a94914a00ac838e3c1fc795c3",
            "bc0cd3506e1b4b2691f608917530781d",
            "057dd97f5e164615bf1b23986f524620",
            "7cec1c53cd7a4c1696bef5d3643bc59c",
            "6a48f05062be4fb692f1f619a3578282",
            "bbf1b567988a4d1b8617dc645bde7a17"
          ]
        },
        "outputId": "dd3a18c0-28af-435e-d667-ff66a701cb5a"
      },
      "execution_count": 6,
      "outputs": [
        {
          "output_type": "display_data",
          "data": {
            "application/vnd.jupyter.widget-view+json": {
              "model_id": "6f210b096ba547fcbe218bd54495a797",
              "version_minor": 0,
              "version_major": 2
            },
            "text/plain": [
              "VBox(children=(Label(value='Upload a picture of stormstrooper,spacemarine or astronaut!'), FileUpload(value={}…"
            ]
          },
          "metadata": {}
        },
        {
          "output_type": "display_data",
          "data": {
            "text/html": [
              ""
            ],
            "text/plain": [
              "<IPython.core.display.HTML object>"
            ]
          },
          "metadata": {}
        }
      ]
    }
  ]
}